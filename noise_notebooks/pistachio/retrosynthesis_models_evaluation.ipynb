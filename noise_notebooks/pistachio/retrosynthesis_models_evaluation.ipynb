{
 "cells": [
  {
   "cell_type": "markdown",
   "metadata": {},
   "source": [
    "# Evaluation of Retrosynthesis models\n",
    "\n",
    "Files needed:\n",
    "* target files:\n",
    "    * precursors-train.txt: tokenized train set of the precursors\n",
    "    * product-train.txt: tokenized train set of the product\n",
    "    * class-multi-train.txt: tokenized file of the reaction class (ex 1.2.1 -> 1 1.2 1.2.1)\n",
    "\n",
    "* retro model predictions for EACH experiment (baseline + all the cleaned):\n",
    "    * can_**example_name**_step_xxxxx.out.txt: file with the canonical topN predictions\n",
    "    * **example_name**_step_xxxxx.out.txt_gold_score: file with the gold scores of the target\n",
    "    * **example_name**_step_xxxxx.out.txt_log_probs: files with the log probabilites of the topN predictions\n",
    "    \n",
    "* forward model predictions (run on the retro model predictions) for EACH experiment (baseline + all the cleaned):\n",
    "    * can_fwd_can_**example_name**_step_xxxxx.out.txt: file with the canonical top1 predictions ( one for each of the topN predictions of the retro)\n",
    "    * fwd_can_**example_name**_step_xxxxx.out.txt_gold_score: file with the gold scores of the target\n",
    "    * fwd_can_**example_name**_step_xxxxx.out.txt_log_probs: files with the log probabilites of the top1 predictions ( one for each of the topN predictions of the retro)\n",
    "    \n",
    "* classification model predictions (run on the retro model rxn predictions) for EACH experiment (baseline + all the cleaned):\n",
    "    * classes_rxn_**example_name**_step_xxxxx.out.txt: file with the top1 classes predicted ( one for each of the topN predictions of the retro)\n",
    "\n",
    "Variables to set: **datapath**, **retropaths** (list), **forwardpaths** (list), **classificationpaths** (list), **baseline_retropath**, **baseline_forwardpath**, **baseline_classificationpath**\n",
    "\n",
    "Outputs:\n",
    "* \"figures/\": the plots"
   ]
  },
  {
   "cell_type": "code",
   "execution_count": 1,
   "metadata": {},
   "outputs": [
    {
     "name": "stderr",
     "output_type": "stream",
     "text": [
      "RDKit WARNING: [12:00:51] Enabling RDKit 2019.09.3 jupyter extensions\n"
     ]
    }
   ],
   "source": [
    "savepath='figures'"
   ]
  },
  {
   "cell_type": "code",
   "execution_count": 2,
   "metadata": {},
   "outputs": [],
   "source": [
    "from onmt_utils.RetroEvalModel import *\n",
    "from onmt_utils.plotter_topn import topn , topn_byclass\n",
    "from onmt_utils.plotter_likelihoods import likelihoods_pdf, likelihoods_pdf_oneclass, \\\n",
    "likelihoods_pdf_allclasses, likelihoods_cdf_allclasses\n",
    "from onmt_utils.plotter_metrics import CJSD_vs_bins\n",
    "from onmt_utils.plotter_retrometrics import bar_plot_metrics"
   ]
  },
  {
   "cell_type": "code",
   "execution_count": 3,
   "metadata": {},
   "outputs": [],
   "source": [
    "#Lambda function to costumize the experiment names \n",
    "\n",
    "get_names = lambda base_names: ['_'.join(b.split('_')[6:7]) for b in base_names]\n"
   ]
  },
  {
   "cell_type": "code",
   "execution_count": 4,
   "metadata": {},
   "outputs": [
    {
     "name": "stdout",
     "output_type": "stream",
     "text": [
      "Experiments list for split test: \n",
      "25perc\n",
      "pistachioonly\n"
     ]
    }
   ],
   "source": [
    "datapath = \"path/to/target/files\"\n",
    "\n",
    "re = RetroEvalModel(datapath,'dataset_name', split='test', n_best=10)\n",
    "\n",
    "retropaths = [ \"path/to/retro/model1\", \"path/to/retro/model1\" ]\n",
    "forwardpaths = [ \"path/to/forward/inference/of/model1\", \"path/to/forward/inference/of/model2\" ]\n",
    "classificationpaths = [ \"path/to/classification/inference/of/model1\", \"path/to/classification/inference/of/model2\" ]\n",
    "\n",
    "for i in range(len(retropaths)):\n",
    "    re.add_experiment( retropaths[i], forwardpaths[i], classificationpaths[i], func = get_names)\n",
    "\n",
    "#Add baseline results for comparison\n",
    "\n",
    "baseline_retropath = \"path/to/retro/baseline\"\n",
    "baseline_forwardpath = \"path/to/forward/inference/of/baseline\"\n",
    "baseline_classificationpath = \"path/to/classification/inference/of/baseline\"\n",
    "re.add_experiment( baseline_retropath, baseline_forwardpath, baseline_classificationpath, func = get_names)\n",
    "            \n",
    "re.print_experiments()\n"
   ]
  },
  {
   "cell_type": "markdown",
   "metadata": {},
   "source": [
    "### TOP10 accuracy"
   ]
  },
  {
   "cell_type": "code",
   "execution_count": 5,
   "metadata": {},
   "outputs": [
    {
     "name": "stdout",
     "output_type": "stream",
     "text": [
      "([23.784474108310274, 24.254264603034635], ['25perc', 'pistachioonly'])\n"
     ]
    }
   ],
   "source": [
    "print(re.get_allexp_top_n_accuracy(topn=10))\n"
   ]
  },
  {
   "cell_type": "markdown",
   "metadata": {},
   "source": [
    "## Retrosynthesis evaluation metrics\n"
   ]
  },
  {
   "cell_type": "markdown",
   "metadata": {},
   "source": [
    "### Coverage"
   ]
  },
  {
   "cell_type": "code",
   "execution_count": 5,
   "metadata": {},
   "outputs": [
    {
     "data": {
      "text/plain": [
       "([97.05886824581141, 95.71335178033874], ['25perc', 'pistachioonly'])"
      ]
     },
     "execution_count": 5,
     "metadata": {},
     "output_type": "execute_result"
    }
   ],
   "source": [
    "cov, labels = re.get_coverage_allexp()\n",
    "cov, labels\n"
   ]
  },
  {
   "cell_type": "markdown",
   "metadata": {},
   "source": [
    "### Round trip accuracy "
   ]
  },
  {
   "cell_type": "code",
   "execution_count": 6,
   "metadata": {},
   "outputs": [
    {
     "data": {
      "text/plain": [
       "([86.21879466050414, 73.27492626265695], ['25perc', 'pistachioonly'])"
      ]
     },
     "execution_count": 6,
     "metadata": {},
     "output_type": "execute_result"
    }
   ],
   "source": [
    "rt_acc, labels = re.get_round_trip_accuracy_allexp()\n",
    "rt_acc, labels\n"
   ]
  },
  {
   "cell_type": "markdown",
   "metadata": {},
   "source": [
    "### Class Diversity"
   ]
  },
  {
   "cell_type": "code",
   "execution_count": 7,
   "metadata": {},
   "outputs": [
    {
     "data": {
      "text/plain": [
       "([1.627656824885213, 1.6098078268008635], ['25perc', 'pistachioonly'])"
      ]
     },
     "execution_count": 7,
     "metadata": {},
     "output_type": "execute_result"
    }
   ],
   "source": [
    "class_div, _ = re.get_class_diversity_allexp()\n",
    "class_div, labels\n"
   ]
  },
  {
   "cell_type": "markdown",
   "metadata": {},
   "source": [
    "### CJSD"
   ]
  },
  {
   "cell_type": "code",
   "execution_count": 8,
   "metadata": {},
   "outputs": [],
   "source": [
    "# 12 classes\n",
    "result = re.get_CJSD_allexp(superclasses=range(12), x_min=0.5, nbins = 100)\n"
   ]
  },
  {
   "cell_type": "code",
   "execution_count": 9,
   "metadata": {},
   "outputs": [
    {
     "data": {
      "text/plain": [
       "([0.0030199344819879376, 0.005788989791869273], ['25perc', 'pistachioonly'])"
      ]
     },
     "execution_count": 9,
     "metadata": {},
     "output_type": "execute_result"
    }
   ],
   "source": [
    "CJSD = result[0]\n",
    "labels = result[-1]\n",
    "CJSD, labels"
   ]
  },
  {
   "cell_type": "code",
   "execution_count": 10,
   "metadata": {},
   "outputs": [
    {
     "data": {
      "text/plain": [
       "([0.000636185189162905, 0.0008375056207282627], ['25perc', 'pistachioonly'])"
      ]
     },
     "execution_count": 10,
     "metadata": {},
     "output_type": "execute_result"
    }
   ],
   "source": [
    "# 11 classes\n",
    "result = re.get_CJSD_allexp(superclasses=range(11), x_min=0.5, nbins = 100)\n",
    "\n",
    "CJSD_no11 = result[0]\n",
    "labels = result[-1]\n",
    "CJSD_no11, labels\n"
   ]
  },
  {
   "cell_type": "markdown",
   "metadata": {},
   "source": [
    "### Plot of the retro metrics for the two models"
   ]
  },
  {
   "cell_type": "code",
   "execution_count": 11,
   "metadata": {},
   "outputs": [],
   "source": [
    "from matplotlib import cm\n",
    "import matplotlib.pyplot as plt\n",
    "from onmt_utils.plotter_helper import autolabel\n",
    "from matplotlib.font_manager import FontProperties\n",
    "\n",
    "fontP = FontProperties()\n",
    "fontP.set_size('small')\n",
    "\n",
    "def bar_plot_metrics(labels, cov, class_div, rt_acc, CJSD, CJSD_nocl11, split, save=False, png_path='', figsize=(6, 5), font=8, vert_off=(0,3)):\n",
    "\n",
    "    labels = ['cleaned','baseline']\n",
    "    cov = cov\n",
    "    class_div = class_div\n",
    "    rt_acc = rt_acc\n",
    "    CJSD_div = [np.sqrt(elem)*1e2 for elem in CJSD]\n",
    "    CJSD_div_nocl11 = [np.sqrt(elem)*1e2 for elem in CJSD_nocl11]\n",
    "    \n",
    "    col = colors = [ cm.twilight(x) for x in np.linspace(0, 1.0, 10) ]\n",
    "\n",
    "    if labels:                           #if the split is not empty\n",
    "\n",
    "        plt. figure()\n",
    "        x = np.arange(len(labels))  # the label locations\n",
    "        width = 0.8  # the width of the bars\n",
    "        lab_width = width/4\n",
    "\n",
    "        fig, ax = plt.subplots(figsize=figsize)\n",
    "        ax2 = ax.twinx()\n",
    "        rects1 = ax.bar(x - width/2 + lab_width/2, cov, lab_width, label='coverage', color=col[0])\n",
    "        rects2 = ax.bar(x - width/4 + lab_width/2, rt_acc, lab_width, label='RT accuracy', color = col[1])\n",
    "        rects3 = ax2.bar(x + width/4 - lab_width/2, CJSD_div, lab_width, label='$\\sqrt{CJSD}$*1e2', color = col[2])\n",
    "        rects4 = ax2.bar(x + width/2 - lab_width/2, CJSD_div_nocl11, lab_width, label='$\\sqrt{CJSD_{R}}$*1e2', color = col[3])\n",
    "        rects5 = ax2.bar(x + width/2 + lab_width/2, class_div, lab_width, label='class diversity', color = col[4])\n",
    "        ax2.set_ylabel('abs', color='tab:red',fontsize=font)  # we already handle the x-label with ax1\n",
    "        ax2.tick_params(axis='y', labelcolor='tab:red')\n",
    "\n",
    "        # Add some text for labels, title and custom x-axis tick labels, etc.\n",
    "        ax.set_ylabel('%',fontsize=font)\n",
    "        ax.set_ylim(0.0, 115.0)\n",
    "        ax2.set_ylim(0.0, 10.0)\n",
    "        #ax.set_title(f'Metrics {split} set')\n",
    "        ax.set_xticks(x)\n",
    "        ax.set_xticklabels(labels,rotation='horizontal',fontsize=font)\n",
    "        ax.legend(prop=fontP,loc='upper right', bbox_to_anchor=(0.45, -0.15),\n",
    "          fancybox=True, shadow=True, ncol=2)\n",
    "        ax2.legend(prop=fontP,loc='upper left', bbox_to_anchor=(0.5, -0.15),\n",
    "          fancybox=True, shadow=True, ncol=2)\n",
    "\n",
    "        autolabel(rects1, ax, vert_off=vert_off, font=font)\n",
    "        autolabel(rects2, ax, vert_off=vert_off, font=font)\n",
    "        autolabel(rects3, ax2, vert_off=vert_off, font=font)\n",
    "        autolabel(rects4, ax2, vert_off=vert_off, font=font)\n",
    "        autolabel(rects5, ax2, vert_off=vert_off, font=font)\n",
    "\n",
    "        if save == True:\n",
    "            %mkdir 'figures'\n",
    "            plt.savefig(png_path + f'/Metrics_byexp_{split}.pdf', bbox_inches='tight')\n",
    "\n",
    "    plt.show()"
   ]
  },
  {
   "cell_type": "code",
   "execution_count": 12,
   "metadata": {
    "scrolled": true
   },
   "outputs": [
    {
     "data": {
      "text/plain": [
       "<Figure size 432x288 with 0 Axes>"
      ]
     },
     "metadata": {},
     "output_type": "display_data"
    },
    {
     "data": {
      "image/png": "[encoded data removed]",
      "text/plain": [
       "<Figure size 432x360 with 2 Axes>"
      ]
     },
     "metadata": {
      "needs_background": "light"
     },
     "output_type": "display_data"
    }
   ],
   "source": [
    "bar_plot_metrics(labels, cov, class_div, rt_acc, CJSD, CJSD_no11, split = 'test', save=True, \\\n",
    "                 png_path=savepath, font=12)\n"
   ]
  }
 ],
 "metadata": {
  "kernelspec": {
   "display_name": "onmt36",
   "language": "python",
   "name": "onmt36"
  },
  "language_info": {
   "codemirror_mode": {
    "name": "ipython",
    "version": 3
   },
   "file_extension": ".py",
   "mimetype": "text/x-python",
   "name": "python",
   "nbconvert_exporter": "python",
   "pygments_lexer": "ipython3",
   "version": "3.6.9"
  }
 },
 "nbformat": 4,
 "nbformat_minor": 2
}

{
 "cells": [
  {
   "cell_type": "markdown",
   "metadata": {},
   "source": [
    "# Analyse artificially introduced noise\n",
    "Files needed:\n",
    "* dataframes files (obtained by running *count_forgotten_events.py* on the corresponding experiments):\n",
    "  * forgetting-random-product.csv: cleaned dataset with \"easy-noise\" introduced \n",
    "  * forgetting-top3-product.csv: cleaned dataset with \"hard-noise\" introduced\n",
    "* noisy reaction files for the TWO kind of noise:\n",
    "  * precursors.txt\n",
    "  * product.txt\n",
    "For more details on the noising startegies: https://chemrxiv.org/articles/preprint/Unassisted_Noise-Reduction_of_Chemical_Reactions_Data_Sets/12395120/1\n",
    "\n",
    "Variables to set: **filespath**, **noise_path_random_product**, **noise_path_top3_product**\n",
    "\n",
    "Outputs:\n",
    "* \"figures/\": the plots"
   ]
  },
  {
   "cell_type": "code",
   "execution_count": 1,
   "metadata": {},
   "outputs": [],
   "source": [
    "import pandas as pd\n",
    "import math\n",
    "\n",
    "filespath = \"path/to/dataframe/files\"  # likely \"files\"\n",
    "savepath = \"figures\""
   ]
  },
  {
   "cell_type": "code",
   "execution_count": null,
   "metadata": {},
   "outputs": [],
   "source": [
    "df_forgetting = pd.read_csv(filespath + \"/forgetting.csv\")\n",
    "df_forgetting_random_product = pd.read_csv(filespath + \"/forgetting-random-product.csv\")\n",
    "df_forgetting_top3_product = pd.read_csv(filespath + \"/forgetting-top3-product.csv\")"
   ]
  },
  {
   "cell_type": "markdown",
   "metadata": {},
   "source": [
    "### Sort the dataframes"
   ]
  },
  {
   "cell_type": "code",
   "execution_count": null,
   "metadata": {},
   "outputs": [],
   "source": [
    "df_forgetting = df_forgetting.sort_values(by='forgotten_events_with_inf', ascending=False).reset_index(drop=True)\n",
    "df_forgetting_random_product = df_forgetting_random_product.sort_values(by='forgotten_events_with_inf', ascending=False).reset_index(drop=True)\n",
    "df_forgetting_top3_product = df_forgetting_top3_product.sort_values(by='forgotten_events_with_inf', ascending=False).reset_index(drop=True)"
   ]
  },
  {
   "cell_type": "markdown",
   "metadata": {},
   "source": [
    "### Load noisy examples"
   ]
  },
  {
   "cell_type": "code",
   "execution_count": 8,
   "metadata": {},
   "outputs": [],
   "source": [
    "# random product\n",
    "noise_path_random_product = \"path/to/random/product/noise/files\"\n",
    "\n",
    "with open(noise_path_random_product + \"/precursors.txt\",'r') as f:\n",
    "    prec_random = [line.strip() for line in f.readlines()]\n",
    "with open(noise_path_random_product + \"/product.txt\",'r') as f:\n",
    "    prod_random = [line.strip() for line in f.readlines()]\n",
    "\n",
    "rxns_random = [prec_random[i] + ' >> ' + prod_random[i] for i in range(len(prec_random))]"
   ]
  },
  {
   "cell_type": "code",
   "execution_count": null,
   "metadata": {},
   "outputs": [],
   "source": [
    "df_random_product = pd.DataFrame(rxns_random)\n",
    "df_random_product.columns = ['noisy_rxns']"
   ]
  },
  {
   "cell_type": "code",
   "execution_count": null,
   "metadata": {},
   "outputs": [],
   "source": [
    "# random product\n",
    "noise_path_top3_product = \"path/to/top3/product/noise/files\"\n",
    "\n",
    "with open(noise_path_top3_product + \"/precursors.txt\",'r') as f:\n",
    "    prec_top3 = [line.strip() for line in f.readlines()]\n",
    "with open(noise_path_top3_product + \"/product.txt\",'r') as f:\n",
    "    prod_top3 = [line.strip() for line in f.readlines()]\n",
    "\n",
    "rxns_top3 = [prec_top3[i] + ' >> ' + prod_top3[i] for i in range(len(prec_top3))]"
   ]
  },
  {
   "cell_type": "code",
   "execution_count": null,
   "metadata": {},
   "outputs": [],
   "source": [
    "df_top3_product = pd.DataFrame(rxns_top3)\n",
    "df_top3_product.columns = ['noisy_rxns']"
   ]
  },
  {
   "cell_type": "markdown",
   "metadata": {},
   "source": [
    "### Check how many noisy examples are found within the most forgotten events"
   ]
  },
  {
   "cell_type": "code",
   "execution_count": null,
   "metadata": {},
   "outputs": [],
   "source": [
    "def percentage_of_noise_found(df, noise_df, condition):\n",
    "    \n",
    "    precursors = list(df.loc[condition(df['forgotten_events_with_inf'])].tok_source.values)\n",
    "    product = list(df.loc[df['forgotten_events_with_inf']>=5].tok_target.values)\n",
    "    rxns = [precursors[i] + ' >> ' + product[i] for i in range(len(product))]\n",
    "\n",
    "    df_filter = noise_df.isin(rxns)\n",
    "    noise_df['filter'] = df_filter\n",
    "    \n",
    "    return len(noise_df.loc[noise_df['filter']==True])/len(noise_df)*100"
   ]
  },
  {
   "cell_type": "code",
   "execution_count": null,
   "metadata": {},
   "outputs": [],
   "source": [
    "labels = ['top-3\\nproduct','random\\nproduct']\n",
    "\n",
    "perc_noise_in_never_learnt_events = [\n",
    "    percentage_of_noise_found(df_forgetting_top3_product, df_top3_product, lambda x: x == math.inf),\n",
    "    percentage_of_noise_found(df_forgetting_random_product, df_random_product, lambda x: x == math.inf)\n",
    "] \n",
    "perc_noise_down_to_5_forg_events = [\n",
    "    percentage_of_noise_found(df_forgetting_top3_product, df_top3_product, lambda x: x >= 5),\n",
    "    percentage_of_noise_found(df_forgetting_random_product, df_random_product, lambda x: x >= 5)\n",
    "] \n",
    "perc_noise_down_to_1_forg_events = [\n",
    "    percentage_of_noise_found(df_forgetting_top3_product, df_top3_product, lambda x: x >= 1),\n",
    "    percentage_of_noise_found(df_forgetting_random_product, df_random_product, lambda x: x >= 1)\n",
    "] "
   ]
  },
  {
   "cell_type": "markdown",
   "metadata": {},
   "source": [
    "### Plots for the noisy examples"
   ]
  },
  {
   "cell_type": "code",
   "execution_count": 41,
   "metadata": {},
   "outputs": [
    {
     "data": {
      "text/plain": [
       "[6.907147426431838, 6.907147426431838]"
      ]
     },
     "execution_count": 41,
     "metadata": {},
     "output_type": "execute_result"
    }
   ],
   "source": [
    "noise_perc = [\n",
    "    len(df_top3_product)/len(df_forgetting_top3_product)*100,\n",
    "    len(df_random_product)/len(df_forgetting_random_product)*100 ]"
   ]
  },
  {
   "cell_type": "code",
   "execution_count": 42,
   "metadata": {},
   "outputs": [
    {
     "data": {
      "text/plain": [
       "[5.9178553650832075, 9.67382581572244]"
      ]
     },
     "execution_count": 42,
     "metadata": {},
     "output_type": "execute_result"
    }
   ],
   "source": [
    "perc_never_learnt_events = [\n",
    "    len(df_forgetting_top3_product.loc[df_forgetting_top3_product['forgotten_events_with_inf']==math.inf])/len(df_forgetting_top3_product)*100,\n",
    "    len(df_forgetting_random_product.loc[df_forgetting_random_product['forgotten_events_with_inf']==math.inf])/len(df_forgetting_random_product)*100\n",
    "]"
   ]
  },
  {
   "cell_type": "code",
   "execution_count": 45,
   "metadata": {},
   "outputs": [],
   "source": [
    "def autolabel(rects, ax, vert_off = (3,0), font = 8):\n",
    "    \"\"\"Attach a text label above each bar in *rects*, displaying its height.\"\"\"\n",
    "    for rect in rects:\n",
    "        width = rect.get_width()\n",
    "        ax.annotate('{0:.3f}'.format(width),\n",
    "                    xy=(width, rect.get_y() + rect.get_height() / 2),\n",
    "                    xytext = vert_off,  # 3 points vertical offset\n",
    "                    textcoords=\"offset points\",\n",
    "                    ha='left', va='center').set_fontsize(font)"
   ]
  },
  {
   "cell_type": "code",
   "execution_count": 61,
   "metadata": {},
   "outputs": [
    {
     "data": {
      "image/png": "[encoded data removed]",
      "text/plain": [
       "<Figure size 640x480 with 1 Axes>"
      ]
     },
     "metadata": {},
     "output_type": "display_data"
    }
   ],
   "source": [
    "from matplotlib.font_manager import FontProperties\n",
    "from matplotlib import cm\n",
    "import matplotlib.pyplot as plt\n",
    "import numpy as np\n",
    "\n",
    "fontP = FontProperties()\n",
    "fontP.set_size('xx-small')\n",
    "col = [ cm.twilight(x) for x in np.linspace(0, 1.0, 5+1) ]\n",
    "\n",
    "plt.rcdefaults()\n",
    "fig, ax = plt.subplots()\n",
    "height=0.15\n",
    "\n",
    "y_pos = np.arange(len(labels))\n",
    "rect = ax.barh(y_pos - 3*height/2, noise_perc,height, align='center', color=col[1], label=\"noisy examples in the dataset\")\n",
    "autolabel(rect, ax)\n",
    "rect =ax.barh(y_pos - height/2, perc_never_learnt_events,height, align='center', color=col[2], label=\"never-learnt events\")\n",
    "autolabel(rect, ax)\n",
    "rect = ax.barh(y_pos + height/2, perc_noise_in_never_learnt_events,height, align='center', color=col[3],label=\"noisy examples never-learnt\")\n",
    "autolabel(rect, ax)\n",
    "rect =ax.barh(y_pos + 3*height/2, perc_noise_down_to_5_forg_events,height, align='center', color=col[4],label=\"noisy examples with at least 5 forgetting events\")\n",
    "autolabel(rect, ax)\n",
    "rect = ax.barh(y_pos + 5*height/2, perc_noise_down_to_1_forg_events,height, align='center', color=col[5],label=\"noisy examples with at least 1 forgetting events\")\n",
    "autolabel(rect, ax)\n",
    "ax.set_yticks(y_pos)\n",
    "ax.set_yticklabels(labels)\n",
    "plt.xlim((0, 112))\n",
    "ax.invert_yaxis()\n",
    "ax.set_xlabel('% of examples')\n",
    "plt.legend(loc='upper right', fancybox=True,prop=fontP)\n",
    "\n",
    "\n",
    "plt.savefig(savepath + f'/noise_comparison.pdf', bbox_inches='tight')"
   ]
  }
 ],
 "metadata": {
  "kernelspec": {
   "display_name": "onmt36",
   "language": "python",
   "name": "onmt36"
  },
  "language_info": {
   "codemirror_mode": {
    "name": "ipython",
    "version": 3
   },
   "file_extension": ".py",
   "mimetype": "text/x-python",
   "name": "python",
   "nbconvert_exporter": "python",
   "pygments_lexer": "ipython3",
   "version": "3.6.9"
  }
 },
 "nbformat": 4,
 "nbformat_minor": 2
}

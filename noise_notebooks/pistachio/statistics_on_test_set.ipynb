{
 "cells": [
  {
   "cell_type": "markdown",
   "metadata": {},
   "source": [
    "# Statistics on TEST SET\n",
    "\n",
    "Files needed:\n",
    "* target files (the train files are needed also for the cleaned datasets that need to be analysed):\n",
    "    * precursors-train.txt: tokenized train set of the precursors\n",
    "    * product-train.txt: tokenized train set of the product\n",
    "    * class-multi-train.txt: tokenized file of the reaction class (ex 1.2.1 -> 1 1.2 1.2.1)\n",
    "    * precursors-test.txt: tokenized test set of the precursors\n",
    "    * product-test.txt: tokenized test set of the product\n",
    "    * class-multi-test.txt: tokenized file of the reaction class (ex 1.2.1 -> 1 1.2 1.2.1)\n",
    "    * precursors-valid.txt: tokenized valid set of the precursors\n",
    "    * product-valid.txt: tokenized valid set of the product\n",
    "    * class-multi-valid.txt: tokenized file of the reaction class (ex 1.2.1 -> 1 1.2 1.2.1)\n",
    "\n",
    "Variables to set: **datapath**, **datapath2** (list)\n",
    "\n",
    "Outputs:\n",
    "* \"figures/\": the plots"
   ]
  },
  {
   "cell_type": "code",
   "execution_count": 1,
   "metadata": {},
   "outputs": [],
   "source": [
    "import pandas as pd\n",
    "import matplotlib.pyplot as plt\n",
    "import numpy as np\n",
    "from matplotlib import cm\n",
    "from matplotlib.font_manager import FontProperties\n",
    "fontP = FontProperties()\n",
    "fontP.set_size('small')"
   ]
  },
  {
   "cell_type": "code",
   "execution_count": null,
   "metadata": {},
   "outputs": [],
   "source": [
    "# path where to save the plots\n",
    "%mkdir figures\n",
    "savepath=\"figures\""
   ]
  },
  {
   "cell_type": "markdown",
   "metadata": {},
   "source": [
    "### Load the data in pandas dataframes"
   ]
  },
  {
   "cell_type": "code",
   "execution_count": 2,
   "metadata": {},
   "outputs": [],
   "source": [
    "datapath = \"path/to/test/files\"\n",
    "\n",
    "with open(datapath + \"/precursors-test.txt\") as f:\n",
    "    precursors=[line.strip() for line in f.readlines()]\n",
    "with open(datapath + \"/precursors-train.txt\") as f:\n",
    "    precursors_train=[line.strip() for line in f.readlines()]\n",
    "with open(datapath + \"/precursors-valid.txt\") as f:  \n",
    "    precursors_valid=[line.strip() for line in f.readlines()]\n",
    "    \n",
    "with open(datapath + \"/product-test.txt\") as f:\n",
    "    product=[line.strip() for line in f.readlines()]\n",
    "with open(datapath + \" product-train.txt\") as f:\n",
    "    product_train=[line.strip() for line in f.readlines()]\n",
    "with open(datapath + \"/product-valid.txt\") as f:\n",
    "    product_valid=[line.strip() for line in f.readlines()]\n",
    "\n",
    "with open(datapath + \"/class-multi-test.txt\") as f:\n",
    "    classes=[line.strip().split(\"\\t\") for line in f.readlines()]\n",
    "    superclasses=[elem[0] for elem in classes]\n",
    "with open(datapath + \"/class-multi-train.txt\") as f:\n",
    "    classes_train=[line.strip().split(\"\\t\") for line in f.readlines()]\n",
    "    superclasses_train=[elem[0] for elem in classes_train]\n",
    "with open(datapath + \"/class-multi-valid.txt\") as f:\n",
    "    classes_valid=[line.strip().split(\"\\t\") for line in f.readlines()]\n",
    "    superclasses_valid=[elem[0] for elem in classes_valid]\n",
    "    \n",
    "# TRAIN dataframe\n",
    "train_df = pd.DataFrame(precursors_train)\n",
    "train_df.columns = [\"precursors\"]\n",
    "train_df[\"product\"] = product_train\n",
    "train_df[\"classes\"] = classes_train   \n",
    "train_df[\"superclasses\"] = superclasses_train\n",
    "\n",
    "# TEST dataframe\n",
    "test_df = pd.DataFrame(precursors)\n",
    "test_df.columns = [\"precursors\"]\n",
    "test_df[\"product\"] = product\n",
    "test_df[\"classes\"] = classes   \n",
    "test_df[\"superclasses\"] = superclasses\n",
    "\n",
    "# VALID dataframe\n",
    "valid_df = pd.DataFrame(precursors_valid)\n",
    "valid_df.columns = [\"precursors\"]\n",
    "valid_df[\"product\"] = product_valid\n",
    "valid_df[\"classes\"] = classes_valid\n",
    "valid_df[\"superclasses\"] = superclasses_valid\n",
    "\n",
    "labels = ['0','1','2','3','4','5','6','7','8','9','10','11']"
   ]
  },
  {
   "cell_type": "markdown",
   "metadata": {},
   "source": [
    "### Classes distribution in test, train and validation splits"
   ]
  },
  {
   "cell_type": "code",
   "execution_count": 3,
   "metadata": {},
   "outputs": [
    {
     "data": {
      "text/html": [
       "<div>\n",
       "<style scoped>\n",
       "    .dataframe tbody tr th:only-of-type {\n",
       "        vertical-align: middle;\n",
       "    }\n",
       "\n",
       "    .dataframe tbody tr th {\n",
       "        vertical-align: top;\n",
       "    }\n",
       "\n",
       "    .dataframe thead th {\n",
       "        text-align: right;\n",
       "    }\n",
       "</style>\n",
       "<table border=\"1\" class=\"dataframe\">\n",
       "  <thead>\n",
       "    <tr style=\"text-align: right;\">\n",
       "      <th></th>\n",
       "      <th>precursors</th>\n",
       "      <th>product</th>\n",
       "      <th>classes</th>\n",
       "      <th>superclasses</th>\n",
       "    </tr>\n",
       "  </thead>\n",
       "  <tbody>\n",
       "    <tr>\n",
       "      <th>0</th>\n",
       "      <td>C C ( C ) ( C # N ) c 1 c c c ( C ( = O ) C 2 ...</td>\n",
       "      <td>C C ( C ) ( C ( = O ) O ) c 1 c c c ( C ( = O ...</td>\n",
       "      <td>[9, 9.4, 9.4.1]</td>\n",
       "      <td>9</td>\n",
       "    </tr>\n",
       "    <tr>\n",
       "      <th>1</th>\n",
       "      <td>C = C ( C ) C ( = O ) O C C ( F ) ( F ) C ( F ) F</td>\n",
       "      <td>C = C ( C ) C ( = O ) O C C ( F ) ( F ) C ( F ...</td>\n",
       "      <td>[10, 10.1, 10.1.3]</td>\n",
       "      <td>10</td>\n",
       "    </tr>\n",
       "    <tr>\n",
       "      <th>2</th>\n",
       "      <td>C C O . C c 1 c ( [N+] ( = O ) [O-] ) c c c ( ...</td>\n",
       "      <td>C c 1 c ( [N+] ( = O ) [O-] ) c c c ( N ) c 1 N</td>\n",
       "      <td>[7, 7.1, 7.1.2]</td>\n",
       "      <td>7</td>\n",
       "    </tr>\n",
       "    <tr>\n",
       "      <th>3</th>\n",
       "      <td>C C O C ( C ) = O . C O . C c 1 c ( [N+] ( = O...</td>\n",
       "      <td>C c 1 c ( N ) c c c 2 c 1 n c n 2 C ( = O ) O ...</td>\n",
       "      <td>[7, 7.1, 7.1.1]</td>\n",
       "      <td>7</td>\n",
       "    </tr>\n",
       "    <tr>\n",
       "      <th>4</th>\n",
       "      <td>C O . C c 1 c c ( [N+] ( = O ) [O-] ) c ( C ) ...</td>\n",
       "      <td>C c 1 c c ( N ) c ( C ) c 2 [nH] c n c 1 2</td>\n",
       "      <td>[7, 7.1, 7.1.1]</td>\n",
       "      <td>7</td>\n",
       "    </tr>\n",
       "    <tr>\n",
       "      <th>...</th>\n",
       "      <td>...</td>\n",
       "      <td>...</td>\n",
       "      <td>...</td>\n",
       "      <td>...</td>\n",
       "    </tr>\n",
       "    <tr>\n",
       "      <th>131543</th>\n",
       "      <td>C C O . C c 1 c c c ( C ( = O ) O ) c 2 c c c ...</td>\n",
       "      <td>C C O C ( = O ) c 1 c c c ( C ) c 2 c c c c c 1 2</td>\n",
       "      <td>[1, 1.7, 1.7.3]</td>\n",
       "      <td>1</td>\n",
       "    </tr>\n",
       "    <tr>\n",
       "      <th>131544</th>\n",
       "      <td>Br B ( Br ) Br . C C C ( = O ) N C ( C c 1 c c...</td>\n",
       "      <td>C C C ( = O ) N [C@H] 1 C c 2 c c c c ( C ( = ...</td>\n",
       "      <td>[0, 0, 0.0]</td>\n",
       "      <td>0</td>\n",
       "    </tr>\n",
       "    <tr>\n",
       "      <th>131545</th>\n",
       "      <td>C N ( C ) C = O . C O c 1 c c ( B ( O ) O ) c ...</td>\n",
       "      <td>C O c 1 c c ( - c 2 c c ( O C ) c ( - n 3 c 4 ...</td>\n",
       "      <td>[3, 3.1, 3.1.5]</td>\n",
       "      <td>3</td>\n",
       "    </tr>\n",
       "    <tr>\n",
       "      <th>131546</th>\n",
       "      <td>C 1 C O C C O 1 . C C 1 ( C ) c 2 c c c c ( P ...</td>\n",
       "      <td>C O c 1 n c ( Br ) c ( F ) c c 1 - n 1 c 2 c (...</td>\n",
       "      <td>[0, 0, 0.0]</td>\n",
       "      <td>0</td>\n",
       "    </tr>\n",
       "    <tr>\n",
       "      <th>131547</th>\n",
       "      <td>C S C C [C@H] ( N ) C ( = O ) N 1 C C C [C@H] ...</td>\n",
       "      <td>C S C C [C@H] ( N ) C ( = O ) N 1 C C C [C@H] ...</td>\n",
       "      <td>[2, 2.1, 2.1.2]</td>\n",
       "      <td>2</td>\n",
       "    </tr>\n",
       "  </tbody>\n",
       "</table>\n",
       "<p>131548 rows × 4 columns</p>\n",
       "</div>"
      ],
      "text/plain": [
       "                                               precursors  \\\n",
       "0       C C ( C ) ( C # N ) c 1 c c c ( C ( = O ) C 2 ...   \n",
       "1       C = C ( C ) C ( = O ) O C C ( F ) ( F ) C ( F ) F   \n",
       "2       C C O . C c 1 c ( [N+] ( = O ) [O-] ) c c c ( ...   \n",
       "3       C C O C ( C ) = O . C O . C c 1 c ( [N+] ( = O...   \n",
       "4       C O . C c 1 c c ( [N+] ( = O ) [O-] ) c ( C ) ...   \n",
       "...                                                   ...   \n",
       "131543  C C O . C c 1 c c c ( C ( = O ) O ) c 2 c c c ...   \n",
       "131544  Br B ( Br ) Br . C C C ( = O ) N C ( C c 1 c c...   \n",
       "131545  C N ( C ) C = O . C O c 1 c c ( B ( O ) O ) c ...   \n",
       "131546  C 1 C O C C O 1 . C C 1 ( C ) c 2 c c c c ( P ...   \n",
       "131547  C S C C [C@H] ( N ) C ( = O ) N 1 C C C [C@H] ...   \n",
       "\n",
       "                                                  product             classes  \\\n",
       "0       C C ( C ) ( C ( = O ) O ) c 1 c c c ( C ( = O ...     [9, 9.4, 9.4.1]   \n",
       "1       C = C ( C ) C ( = O ) O C C ( F ) ( F ) C ( F ...  [10, 10.1, 10.1.3]   \n",
       "2         C c 1 c ( [N+] ( = O ) [O-] ) c c c ( N ) c 1 N     [7, 7.1, 7.1.2]   \n",
       "3       C c 1 c ( N ) c c c 2 c 1 n c n 2 C ( = O ) O ...     [7, 7.1, 7.1.1]   \n",
       "4              C c 1 c c ( N ) c ( C ) c 2 [nH] c n c 1 2     [7, 7.1, 7.1.1]   \n",
       "...                                                   ...                 ...   \n",
       "131543  C C O C ( = O ) c 1 c c c ( C ) c 2 c c c c c 1 2     [1, 1.7, 1.7.3]   \n",
       "131544  C C C ( = O ) N [C@H] 1 C c 2 c c c c ( C ( = ...         [0, 0, 0.0]   \n",
       "131545  C O c 1 c c ( - c 2 c c ( O C ) c ( - n 3 c 4 ...     [3, 3.1, 3.1.5]   \n",
       "131546  C O c 1 n c ( Br ) c ( F ) c c 1 - n 1 c 2 c (...         [0, 0, 0.0]   \n",
       "131547  C S C C [C@H] ( N ) C ( = O ) N 1 C C C [C@H] ...     [2, 2.1, 2.1.2]   \n",
       "\n",
       "       superclasses  \n",
       "0                 9  \n",
       "1                10  \n",
       "2                 7  \n",
       "3                 7  \n",
       "4                 7  \n",
       "...             ...  \n",
       "131543            1  \n",
       "131544            0  \n",
       "131545            3  \n",
       "131546            0  \n",
       "131547            2  \n",
       "\n",
       "[131548 rows x 4 columns]"
      ]
     },
     "execution_count": 3,
     "metadata": {},
     "output_type": "execute_result"
    }
   ],
   "source": [
    "test_df"
   ]
  },
  {
   "cell_type": "code",
   "execution_count": 4,
   "metadata": {},
   "outputs": [],
   "source": [
    "test_classes_percentages = []\n",
    "length = len(test_df)\n",
    "for cl in labels:\n",
    "    df = test_df.loc[(test_df[\"superclasses\"]==cl)]\n",
    "    test_classes_percentages.append(len(df)/length*100)"
   ]
  },
  {
   "cell_type": "code",
   "execution_count": 5,
   "metadata": {},
   "outputs": [
    {
     "data": {
      "text/plain": [
       "[33.87736795694347,\n",
       " 16.498920546112444,\n",
       " 12.603764405388146,\n",
       " 6.555781919907562,\n",
       " 2.6058929060114937,\n",
       " 1.442059172317329,\n",
       " 10.840149603186669,\n",
       " 4.990573782953751,\n",
       " 2.1094961534953023,\n",
       " 6.147565907501444,\n",
       " 2.241767263660413,\n",
       " 0.08666038252196917]"
      ]
     },
     "execution_count": 5,
     "metadata": {},
     "output_type": "execute_result"
    }
   ],
   "source": [
    "test_classes_percentages"
   ]
  },
  {
   "cell_type": "code",
   "execution_count": 6,
   "metadata": {},
   "outputs": [],
   "source": [
    "train_classes_percentages = []\n",
    "length = len(train_df)\n",
    "for cl in labels:\n",
    "    df = train_df.loc[(train_df[\"superclasses\"]==cl)]\n",
    "    train_classes_percentages.append(len(df)/length*100)"
   ]
  },
  {
   "cell_type": "code",
   "execution_count": 7,
   "metadata": {},
   "outputs": [
    {
     "data": {
      "text/plain": [
       "[34.048746038018216,\n",
       " 16.450736907594393,\n",
       " 12.64845346090144,\n",
       " 6.475160370933978,\n",
       " 2.545673137553282,\n",
       " 1.4229925258317009,\n",
       " 10.832163305112532,\n",
       " 5.0131155259241815,\n",
       " 1.980696636203896,\n",
       " 6.270650647789278,\n",
       " 2.224006456874301,\n",
       " 0.08760498726280655]"
      ]
     },
     "execution_count": 7,
     "metadata": {},
     "output_type": "execute_result"
    }
   ],
   "source": [
    "train_classes_percentages"
   ]
  },
  {
   "cell_type": "code",
   "execution_count": 8,
   "metadata": {},
   "outputs": [
    {
     "data": {
      "text/plain": [
       "[34.113932178550655,\n",
       " 16.478693428616754,\n",
       " 12.626815836587927,\n",
       " 6.476955966670947,\n",
       " 2.5457594597248767,\n",
       " 1.4254742137984695,\n",
       " 10.925613966172373,\n",
       " 4.9472340361241,\n",
       " 1.900632285064626,\n",
       " 6.246553404292286,\n",
       " 2.2390596553782003,\n",
       " 0.07327556901878725]"
      ]
     },
     "execution_count": 8,
     "metadata": {},
     "output_type": "execute_result"
    }
   ],
   "source": [
    "valid_classes_percentages = []\n",
    "length = len(valid_df)\n",
    "for cl in labels:\n",
    "    df = valid_df.loc[(valid_df[\"superclasses\"]==cl)]\n",
    "    valid_classes_percentages.append(len(df)/length*100)\n",
    "valid_classes_percentages"
   ]
  },
  {
   "cell_type": "code",
   "execution_count": 11,
   "metadata": {},
   "outputs": [
    {
     "data": {
      "image/png": "[encoded data removed]",
      "text/plain": [
       "<Figure size 432x288 with 1 Axes>"
      ]
     },
     "metadata": {
      "needs_background": "light"
     },
     "output_type": "display_data"
    }
   ],
   "source": [
    "x = np.arange(len(labels))  # the label locations\n",
    "width = 0.25  # the width of the bars\n",
    "colors = [ cm.twilight(x) for x in np.linspace(0, 1.0, 5) ]\n",
    "\n",
    "fig, ax = plt.subplots()\n",
    "\n",
    "test_label =f\"Test : {len(test_df)} samples\"\n",
    "train_label =f\"Train : {len(train_df)} samples\"\n",
    "valid_label =f\"Valid : {len(valid_df)} samples\"\n",
    "\n",
    "plt.bar(x - width, train_classes_percentages, width, label=test_label, color = colors[2])\n",
    "plt.bar(x , test_classes_percentages, width, label=train_label,color = colors[3])\n",
    "plt.bar(x + width, valid_classes_percentages, width, label=valid_label,color = colors[4])\n",
    "\n",
    "ax.set_xticks(x)\n",
    "ax.set_xticklabels(labels)\n",
    "plt.xlabel(\"macro class ID\")\n",
    "plt.ylabel(\"%\")\n",
    "plt.legend(prop=fontP,loc='upper center', bbox_to_anchor=(0.5, -0.2),\n",
    "          fancybox=True, shadow=True, ncol=3)\n",
    "\n",
    "fig.tight_layout()\n",
    "plt.savefig(savepath + \"/superclasses_distribution.pdf\")\n",
    "\n",
    "plt.show()"
   ]
  },
  {
   "cell_type": "markdown",
   "metadata": {},
   "source": [
    "### Classes distribution for some of the cleaned datasets"
   ]
  },
  {
   "cell_type": "code",
   "execution_count": 12,
   "metadata": {},
   "outputs": [],
   "source": [
    "datapath2 = [\"path/to/test/files/baseline\", \\\n",
    "            \"path/to/test/files/cleaned/model1\",\\\n",
    "            \"path/to/test/files/cleaned/model2\",\\\n",
    "            \"path/to/test/files/cleaned/model3\"]\n",
    "\n",
    "classes_percentages = []\n",
    "\n",
    "labels = ['0','1','2','3','4','5','6','7','8','9','10','11']\n",
    "\n",
    "for datapath in path:\n",
    "    with open(datapath + \"class-multi-train.txt\") as f:\n",
    "        classes_train=[line.strip().split(\"\\t\") for line in f.readlines()]\n",
    "        superclasses_train=[elem[0] for elem in classes_train]\n",
    "\n",
    "    train_df = pd.DataFrame(superclasses_train)\n",
    "    train_df.columns = [\"superclasses\"]   \n",
    "\n",
    "    length = len(train_df)\n",
    "    for cl in labels:\n",
    "        df = train_df.loc[(train_df[\"superclasses\"]==cl)]\n",
    "        classes_percentages.append(len(df)/length*100)"
   ]
  },
  {
   "cell_type": "code",
   "execution_count": 13,
   "metadata": {},
   "outputs": [
    {
     "data": {
      "image/png": "[encoded data removed]",
      "text/plain": [
       "<Figure size 432x288 with 1 Axes>"
      ]
     },
     "metadata": {
      "needs_background": "light"
     },
     "output_type": "display_data"
    }
   ],
   "source": [
    "labels = ['0','1','2','3','4','5','6','7','8','9','10','11']\n",
    "x = np.arange(len(labels))  # the label locations\n",
    "width = 0.2  # the width of the bars\n",
    "colors = [ cm.twilight(x) for x in np.linspace(0, 1.0, 5) ]\n",
    "\n",
    "fig, ax = plt.subplots()\n",
    "\n",
    "exp = [\"baseline\",\"model1\",\"model2\",\"model3\"]\n",
    "\n",
    "plt.bar(x - 3 * width/2, classes_percentages[0:12], width, label=exp[0], color = colors[1])\n",
    "plt.bar(x -width/2, classes_percentages[12:24], width, label=exp[1],color = colors[2])\n",
    "plt.bar(x + width/2, classes_percentages[24:36], width, label=exp[2],color = colors[3])\n",
    "plt.bar(x + 3*width/2, classes_percentages[36:48], width, label=exp[3],color = colors[4])\n",
    "\n",
    "ax.set_xticks(x)\n",
    "ax.set_xticklabels(labels)\n",
    "\n",
    "plt.xlabel(\"macro class ID\")\n",
    "plt.ylabel(\"%\")\n",
    "plt.legend(prop=fontP,loc='upper center', bbox_to_anchor=(0.5, -0.2),\n",
    "          fancybox=True, shadow=True, ncol=2)\n",
    "\n",
    "fig.tight_layout()\n",
    "plt.savefig(savepath + \"/superclasses_distribution_forgetting.pdf\")\n",
    "\n",
    "plt.show()"
   ]
  },
  {
   "cell_type": "markdown",
   "metadata": {},
   "source": [
    "### One-regent reactions in test and train set"
   ]
  },
  {
   "cell_type": "code",
   "execution_count": 17,
   "metadata": {},
   "outputs": [
    {
     "name": "stdout",
     "output_type": "stream",
     "text": [
      "8.520083923738863 %\n",
      "8.506427448441691 %\n"
     ]
    }
   ],
   "source": [
    "test_df['single_prec'] = test_df['precursors'].map(lambda x : x.find('.'))\n",
    "train_df['single_prec'] = train_df['precursors'].map(lambda x : x.find('.'))\n",
    "print(len(test_df.loc[(test_df['single_prec']==-1)])/ len(test_df)*100, \"%\")\n",
    "print(len(train_df.loc[(train_df['single_prec']==-1)])/ len(train_df)*100, \"%\")"
   ]
  }
 ],
 "metadata": {
  "kernelspec": {
   "display_name": "onmt36",
   "language": "python",
   "name": "onmt36"
  },
  "language_info": {
   "codemirror_mode": {
    "name": "ipython",
    "version": 3
   },
   "file_extension": ".py",
   "mimetype": "text/x-python",
   "name": "python",
   "nbconvert_exporter": "python",
   "pygments_lexer": "ipython3",
   "version": "3.6.9"
  }
 },
 "nbformat": 4,
 "nbformat_minor": 2
}

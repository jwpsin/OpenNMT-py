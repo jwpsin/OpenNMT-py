{
 "cells": [
  {
   "cell_type": "markdown",
   "metadata": {},
   "source": [
    "# Check of the influence of the seed on the calculation of the forgotten events\n",
    "\n",
    "Files needed:\n",
    "* the dataframes for different seeds (obtained by running the *count_forgotten_events.ipynb* on the proper results for each seed):\n",
    "    * forgetting-seed10.csv\n",
    "    * forgetting-seed20.csv\n",
    "    * forgetting-seed42.csv\n",
    "\n",
    "Variables to set: **dataframes_path**, **datapath_seed10**, **datapath_seed20**, **datapath_seed42**\n",
    "\n",
    "Outputs:\n",
    "* \"files/\": the full dataframe (non-ordered by forgotten events). ALl the reduced datasets files\n",
    "* \"figures/\": the plots"
   ]
  },
  {
   "cell_type": "code",
   "execution_count": 1,
   "metadata": {},
   "outputs": [],
   "source": [
    "import csv\n",
    "import numpy as np\n",
    "import pandas as pd\n",
    "from scipy import stats\n",
    "import math\n",
    "\n",
    "dataframes_path = \"path/to/dataframes\"   # likely \"files\"\n",
    "df_seed10 = pd.read_csv(dataframes_path + \"/forgetting-seed10.csv\")\n",
    "df_seed20 = pd.read_csv(dataframes_path + \"/forgetting-seed20.csv\")\n",
    "df_seed42 = pd.read_csv(dataframes_path + \"/forgetting-seed42.csv\")\n"
   ]
  },
  {
   "cell_type": "code",
   "execution_count": 1,
   "metadata": {},
   "outputs": [],
   "source": [
    "savepath = \"figures\"\n",
    "%mkdir -p figures"
   ]
  },
  {
   "cell_type": "code",
   "execution_count": 3,
   "metadata": {},
   "outputs": [
    {
     "name": "stdout",
     "output_type": "stream",
     "text": [
      "1.0\n",
      "1.0\n",
      "1.0\n",
      "1.0\n"
     ]
    }
   ],
   "source": [
    "# Check on the dataframes\n",
    "\n",
    "check = df_seed10['source'].values == df_seed20['source'].values\n",
    "print(np.mean(check))\n",
    "check = df_seed10['target'].values == df_seed20['target'].values\n",
    "print(np.mean(check))\n",
    "check = df_seed20['source'].values == df_seed42['source'].values\n",
    "print(np.mean(check))\n",
    "check = df_seed42['target'].values == df_seed42['target'].values\n",
    "print(np.mean(check))"
   ]
  },
  {
   "cell_type": "markdown",
   "metadata": {},
   "source": [
    "### Compute Pearson correlation coefficient"
   ]
  },
  {
   "cell_type": "code",
   "execution_count": 5,
   "metadata": {},
   "outputs": [
    {
     "name": "stdout",
     "output_type": "stream",
     "text": [
      "(0.8831013322036452, 0.0)\n",
      "(0.8812281178836392, 0.0)\n",
      "(0.8810474597870114, 0.0)\n",
      "(0.8810474597870114, 0.0)\n"
     ]
    }
   ],
   "source": [
    "# Substitute a high numerical value to the samples with math.inf in order to compute the standard deviation\n",
    "\n",
    "df_seed10_new = np.where(df_seed10['forgotten_events_with_inf'].values==math.inf, \\\n",
    "                         50, df_seed10['forgotten_events_with_inf'].values)\n",
    "df_seed20_new = np.where(df_seed20['forgotten_events_with_inf'].values==math.inf, \\\n",
    "                         50, df_seed20['forgotten_events_with_inf'].values)\n",
    "df_seed42_new = np.where(df_seed42['forgotten_events_with_inf'].values==math.inf, \\\n",
    "                         50, df_seed42['forgotten_events_with_inf'].values)\n",
    "\n",
    "\n",
    "# Pearson correlation coefficients\n",
    "print(stats.pearsonr(df_seed10_new,df_seed20_new))\n",
    "print(stats.pearsonr(df_seed10_new,df_seed42_new))\n",
    "print(stats.pearsonr(df_seed42_new,df_seed20_new))\n",
    "print(stats.pearsonr(df_seed20_new,df_seed42_new))"
   ]
  },
  {
   "cell_type": "markdown",
   "metadata": {},
   "source": [
    "### Compute standard deviation"
   ]
  },
  {
   "cell_type": "code",
   "execution_count": 6,
   "metadata": {},
   "outputs": [],
   "source": [
    "stdv = []\n",
    "count_inf = 0\n",
    "for j in range(0, len(df_seed10_new)):\n",
    "    row = df_seed10_new[j], df_seed20_new[j], df_seed42_new[j]\n",
    "    standard_dev = np.std(row)\n",
    "    stdv.append(standard_dev)"
   ]
  },
  {
   "cell_type": "code",
   "execution_count": 7,
   "metadata": {},
   "outputs": [
    {
     "data": {
      "image/png": "[encoded data removed]",
      "text/plain": [
       "<Figure size 432x288 with 1 Axes>"
      ]
     },
     "metadata": {
      "needs_background": "light"
     },
     "output_type": "display_data"
    }
   ],
   "source": [
    "import matplotlib.pyplot as plt\n",
    "from matplotlib import cm\n",
    "from matplotlib.ticker import PercentFormatter\n",
    "\n",
    "colors = [ cm.twilight(x) for x in np.linspace(0, 1.0, 5) ]\n",
    "\n",
    "plt.hist(stdv, bins = np.linspace(-.5, 25, 50), weights=np.ones(len(stdv)) / len(stdv), \\\n",
    "         edgecolor='white', linewidth=1.2, color=colors[1])\n",
    "plt.gca().yaxis.set_major_formatter(PercentFormatter(1))\n",
    "plt.xlim([-0.5, 25])\n",
    "plt.xlabel('standard deviation')\n",
    "plt.ylabel('% of samples')\n",
    "plt.savefig(savepath + '/freq_of_stdv.pdf', bbox_inches='tight')"
   ]
  },
  {
   "cell_type": "markdown",
   "metadata": {},
   "source": [
    "### Compute the overlap through seeds for the cleaned datasets"
   ]
  },
  {
   "cell_type": "code",
   "execution_count": 8,
   "metadata": {},
   "outputs": [],
   "source": [
    "import pandas as pd\n",
    "import matplotlib.pyplot as plt\n",
    "import numpy as np"
   ]
  },
  {
   "cell_type": "code",
   "execution_count": 10,
   "metadata": {},
   "outputs": [],
   "source": [
    "paths = [\"01perc\",\"1perc\",\"5perc\",\"10perc\",\"15perc\",\"20perc\",\"25perc\",\"30perc\",\"40perc\"]\n"
   ]
  },
  {
   "cell_type": "code",
   "execution_count": 12,
   "metadata": {},
   "outputs": [
    {
     "name": "stdout",
     "output_type": "stream",
     "text": [
      "01perc 2374105 2374105\n",
      "1perc 2331300 2331298\n",
      "5perc 2154268 2166561\n",
      "10perc 1947598 2038938\n",
      "15perc 1896364 1909719\n",
      "20perc 1850412 1849356\n",
      "25perc 1666597 1665911\n",
      "30perc 1524125 1523607\n",
      "40perc 1273228 1275255\n"
     ]
    }
   ],
   "source": [
    "overlap_2 = []\n",
    "overlap_3 = []\n",
    "datapath_seed10 = \"path/to/cleaned/datasets/seed10\"\n",
    "datapath_seed20 = \"path/to/cleaned/datasets/seed20\"\n",
    "datapath_seed42 = \"path/to/cleaned/datasets/seed42\"\n",
    "\n",
    "for direct in paths:\n",
    "    \n",
    "    with open(datapath_seed42 + direct + \"/precursors-train.txt\") as f:\n",
    "        precursors_1=[\"\".join(line.strip().split(\" \")) for line in f.readlines()]\n",
    "    with open(datapath_seed10 + direct + \"/precursors-train.txt\") as f:\n",
    "        precursors_2=[\"\".join(line.strip().split(\" \")) for line in f.readlines()]\n",
    "    with open(datapath_seed20 + direct + \"/precursors-train.txt\") as f:\n",
    "        precursors_3=[\"\".join(line.strip().split(\" \")) for line in f.readlines()]\n",
    "    with open(datapath_seed42 + direct + \"/product-train.txt\") as f:\n",
    "        product_1=[\"\".join(line.strip().split(\" \")) for line in f.readlines()]\n",
    "    with open(datapath_seed10 + direct + \"/product-train.txt\") as f:\n",
    "        product_2=[\"\".join(line.strip().split(\" \")) for line in f.readlines()]\n",
    "    with open(datapath_seed20 + direct + \"/product-train.txt\") as f:\n",
    "        product_3=[\"\".join(line.strip().split(\" \")) for line in f.readlines()]\n",
    "\n",
    "    rxns_1 = [precursors_1[i] + \" >> \" + product_1[i] for i in range(len(precursors_1))]\n",
    "    df_1 = pd.DataFrame(rxns_1)\n",
    "    df_1.columns = ['rxn']\n",
    "    rxns_2 = [precursors_2[i] + \" >> \" + product_2[i] for i in range(len(precursors_2))]\n",
    "    rxns_3 = [precursors_3[i] + \" >> \" + product_3[i] for i in range(len(precursors_3))]\n",
    "\n",
    "    \n",
    "    df_filter_2 = df_1.isin(rxns_2).values\n",
    "    df_filter_3 = df_1.isin(rxns_3).values\n",
    "    df_1['overlap_2'] = df_filter_2\n",
    "    df_1['overlap_3'] = df_filter_3\n",
    "    \n",
    "    length_2=len(df_1.loc[df_1['overlap_2']==True])\n",
    "    length_3=len(df_1.loc[df_1['overlap_3']==True])\n",
    "    \n",
    "    overlap_2.append(length_2/len(df_1)*100)\n",
    "    overlap_3.append(length_3/len(df_1)*100)\n",
    "    print(direct,length_2,length_3)"
   ]
  },
  {
   "cell_type": "code",
   "execution_count": 13,
   "metadata": {},
   "outputs": [],
   "source": [
    "import numpy as np\n",
    "import seaborn as sns\n",
    "import matplotlib.pyplot as plt\n",
    "from matplotlib import cm\n",
    "from matplotlib.font_manager import FontProperties\n",
    "fontP = FontProperties()\n",
    "fontP.set_size('small')\n",
    "\n",
    "colors = [ cm.twilight(x) for x in np.linspace(0, 1.0, 5) ]"
   ]
  },
  {
   "cell_type": "code",
   "execution_count": 15,
   "metadata": {},
   "outputs": [
    {
     "data": {
      "image/png": "[encoded data removed]",
      "text/plain": [
       "<Figure size 432x288 with 1 Axes>"
      ]
     },
     "metadata": {
      "needs_background": "light"
     },
     "output_type": "display_data"
    }
   ],
   "source": [
    "labels=[\"forget-\\n01perc\",\"forget-\\n1perc\",\"forget-\\n5perc\",\"forget-\\n10perc\",\"forget-\\n15perc\",\\\n",
    "        \"forget-\\n20perc\",\"forget-\\n25perc\",\"forget-\\n30perc\",\"forget-\\n40perc\"]\n",
    "\n",
    "x = np.arange(len(labels))  # the label locations\n",
    "width = 0.30  # the width of the bars\n",
    "\n",
    "fig, ax = plt.subplots()\n",
    "plt.bar(x - width/2, overlap_2, width, label=\"seed 42 vs 10\", color = colors[4])\n",
    "plt.bar(x + width/2, overlap_3, width,  label=\"seed 42 vs 20\", color = colors[3])\n",
    "\n",
    "ax.set_xticks(x)\n",
    "ax.set_xticklabels(labels)\n",
    "plt.xlabel(\"Experiment\")\n",
    "plt.ylabel(\"% overlap of cleaned datasets\")\n",
    "plt.ylim(0,120)\n",
    "plt.legend(prop=fontP,loc='upper center', bbox_to_anchor=(0.5, -0.2),\n",
    "          fancybox=True, shadow=True, ncol=3)\n",
    "\n",
    "fig.tight_layout()\n",
    "plt.savefig(savepath + '/overlap_through_seeds.pdf', bbox_inches='tight')\n",
    "\n",
    "plt.show()"
   ]
  }
 ],
 "metadata": {
  "kernelspec": {
   "display_name": "onmt36",
   "language": "python",
   "name": "onmt36"
  },
  "language_info": {
   "codemirror_mode": {
    "name": "ipython",
    "version": 3
   },
   "file_extension": ".py",
   "mimetype": "text/x-python",
   "name": "python",
   "nbconvert_exporter": "python",
   "pygments_lexer": "ipython3",
   "version": "3.6.9"
  }
 },
 "nbformat": 4,
 "nbformat_minor": 2
}
